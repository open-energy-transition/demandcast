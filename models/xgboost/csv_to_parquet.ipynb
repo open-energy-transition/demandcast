{
 "cells": [
  {
   "cell_type": "code",
   "execution_count": 1,
   "id": "320587a6-2950-4c1d-a5ce-c3a24e552bb9",
   "metadata": {},
   "outputs": [],
   "source": [
    "import os\n",
    "\n",
    "import pandas"
   ]
  },
  {
   "cell_type": "code",
   "execution_count": 14,
   "id": "68f5aedd-d391-4bff-9877-e824660ae35a",
   "metadata": {},
   "outputs": [],
   "source": [
    "data_folder = \"./data/toktarova_et_al_2019/\"\n",
    "csv_files = os.listdir(data_folder)"
   ]
  },
  {
   "cell_type": "code",
   "execution_count": 15,
   "id": "7f63e85e-a2a6-4cab-baee-42b325250372",
   "metadata": {},
   "outputs": [
    {
     "data": {
      "text/plain": [
       "['Population.csv',\n",
       " 'ElectricityperCapita.csv',\n",
       " 'GDPperCap 2015.5.2050.10.2100.csv',\n",
       " 'Real load hourly data.csv',\n",
       " 'AnnualDemand.csv',\n",
       " 'Data.csv',\n",
       " 'GDPperCapita.csv',\n",
       " 'Firstdayofyear.csv',\n",
       " 'Peak.csv',\n",
       " 'References.csv']"
      ]
     },
     "execution_count": 15,
     "metadata": {},
     "output_type": "execute_result"
    }
   ],
   "source": [
    "csv_files"
   ]
  },
  {
   "cell_type": "code",
   "execution_count": 22,
   "id": "cb4a751d-4180-405f-99df-0aa69f0a93e4",
   "metadata": {},
   "outputs": [
    {
     "data": {
      "text/plain": [
       "'Population'"
      ]
     },
     "execution_count": 22,
     "metadata": {},
     "output_type": "execute_result"
    }
   ],
   "source": [
    "csv_files[0].split(\".\")[0]"
   ]
  },
  {
   "cell_type": "code",
   "execution_count": 23,
   "id": "dd68e5e6-2f45-41ba-ad6f-3ba7beb50dd3",
   "metadata": {},
   "outputs": [],
   "source": [
    "for file in csv_files:\n",
    "    read_file = pandas.read_csv(data_folder + file, header=1, index_col=0)\n",
    "    read_file.to_parquet(data_folder + file[0].split(\".\")[0] + \".parquet\")"
   ]
  },
  {
   "cell_type": "code",
   "execution_count": null,
   "id": "51360e00-39a0-4a2a-8221-56caedf0e3c3",
   "metadata": {},
   "outputs": [],
   "source": []
  }
 ],
 "metadata": {
  "kernelspec": {
   "display_name": "Python 3 (ipykernel)",
   "language": "python",
   "name": "python3"
  },
  "language_info": {
   "codemirror_mode": {
    "name": "ipython",
    "version": 3
   },
   "file_extension": ".py",
   "mimetype": "text/x-python",
   "name": "python",
   "nbconvert_exporter": "python",
   "pygments_lexer": "ipython3",
   "version": "3.12.9"
  }
 },
 "nbformat": 4,
 "nbformat_minor": 5
}
