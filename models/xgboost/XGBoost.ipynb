{
 "cells": [
  {
   "cell_type": "code",
   "execution_count": null,
   "id": "0",
   "metadata": {},
   "outputs": [],
   "source": [
    "import os\n",
    "\n",
    "import pandas\n",
    "from tqdm import tqdm"
   ]
  },
  {
   "cell_type": "markdown",
   "id": "1",
   "metadata": {},
   "source": [
    "### Data Ingestion"
   ]
  },
  {
   "cell_type": "markdown",
   "id": "2",
   "metadata": {},
   "source": [
    "#### Annual Electricity Demand"
   ]
  },
  {
   "cell_type": "code",
   "execution_count": null,
   "id": "3",
   "metadata": {},
   "outputs": [],
   "source": [
    "electricity_annual_demand_folder = \"./data/annual_electricity_demand/\""
   ]
  },
  {
   "cell_type": "code",
   "execution_count": null,
   "id": "4",
   "metadata": {},
   "outputs": [],
   "source": [
    "ed_annual_files = [\n",
    "    file_name\n",
    "    for file_name in os.listdir(electricity_annual_demand_folder)\n",
    "    if file_name.endswith(\".parquet\")\n",
    "]"
   ]
  },
  {
   "cell_type": "code",
   "execution_count": null,
   "id": "5",
   "metadata": {},
   "outputs": [],
   "source": [
    "ed_annual_files[:5]"
   ]
  },
  {
   "cell_type": "code",
   "execution_count": null,
   "id": "6",
   "metadata": {},
   "outputs": [],
   "source": [
    "df_annual_demand = pandas.DataFrame()\n",
    "\n",
    "for file_name in tqdm(ed_annual_files):\n",
    "    df_current = pandas.read_parquet(\n",
    "        electricity_annual_demand_folder + file_name\n",
    "    )\n",
    "\n",
    "    df_current = df_current.resample(\n",
    "        \"1h\", label=\"right\", closed=\"right\"\n",
    "    ).mean()\n",
    "\n",
    "    # Add a column for the region name\n",
    "    df_current[\"region_code\"] = file_name.split(\".\")[0]\n",
    "\n",
    "    # Reset index to move \"Time (UTC)\" to a column\n",
    "    df_current = df_current.reset_index()\n",
    "\n",
    "    df_annual_demand = pandas.concat(\n",
    "        [df_annual_demand, df_current], ignore_index=True\n",
    "    )"
   ]
  },
  {
   "cell_type": "code",
   "execution_count": null,
   "id": "7",
   "metadata": {},
   "outputs": [],
   "source": [
    "print(df_annual_demand.shape)\n",
    "df_annual_demand.head()"
   ]
  },
  {
   "cell_type": "markdown",
   "id": "8",
   "metadata": {},
   "source": [
    "#### Temperature Data"
   ]
  },
  {
   "cell_type": "code",
   "execution_count": null,
   "id": "9",
   "metadata": {},
   "outputs": [],
   "source": [
    "temperature_folder = \"./data/temperature/\""
   ]
  },
  {
   "cell_type": "code",
   "execution_count": null,
   "id": "10",
   "metadata": {},
   "outputs": [],
   "source": [
    "temperature_files = [\n",
    "    file_name\n",
    "    for file_name in os.listdir(temperature_folder)\n",
    "    if file_name.endswith(\".parquet\")\n",
    "]"
   ]
  },
  {
   "cell_type": "code",
   "execution_count": null,
   "id": "11",
   "metadata": {},
   "outputs": [],
   "source": [
    "temperature_files[:5]"
   ]
  },
  {
   "cell_type": "code",
   "execution_count": null,
   "id": "12",
   "metadata": {},
   "outputs": [],
   "source": [
    "df_all_temperature = pandas.DataFrame()\n",
    "\n",
    "for file_name in tqdm(temperature_files):\n",
    "    df_current = pandas.read_parquet(temperature_folder + file_name)\n",
    "\n",
    "    # Add a column for the region name\n",
    "    df_current[\"region_code\"] = file_name.split(\"_temp\")[0]\n",
    "\n",
    "    # Reset index to move \"Time (UTC)\" to a column\n",
    "    df_current = df_current.reset_index()\n",
    "\n",
    "    df_all_temperature = pandas.concat(\n",
    "        [df_all_temperature, df_current], ignore_index=True\n",
    "    )"
   ]
  },
  {
   "cell_type": "code",
   "execution_count": null,
   "id": "13",
   "metadata": {},
   "outputs": [],
   "source": [
    "print(df_all_temperature.shape)\n",
    "df_all_temperature.head()"
   ]
  },
  {
   "cell_type": "markdown",
   "id": "14",
   "metadata": {},
   "source": [
    "#### GDP Data"
   ]
  },
  {
   "cell_type": "code",
   "execution_count": null,
   "id": "15",
   "metadata": {},
   "outputs": [],
   "source": [
    "import pickle\n",
    "\n",
    "# Read in gdp data\n",
    "with open(\"./data/gdp_data.pkl\", \"rb\") as f:\n",
    "    gdp_data = pickle.load(f)"
   ]
  },
  {
   "cell_type": "code",
   "execution_count": null,
   "id": "16",
   "metadata": {},
   "outputs": [],
   "source": [
    "df_gdp_data = pandas.DataFrame()\n",
    "\n",
    "for country_code, region_dictionary in gdp_data.items():\n",
    "    for region_code, gdp_series in region_dictionary.items():\n",
    "        df_current = pandas.DataFrame(gdp_series).reset_index()\n",
    "        df_current.columns = [\"year\", \"GDP\"]\n",
    "        df_current[\"year\"] = df_current[\"year\"].astype(int)\n",
    "\n",
    "        df_current[\"region_code\"] = region_code\n",
    "        df_current[\"country_code\"] = country_code\n",
    "\n",
    "        df_gdp_data = pandas.concat(\n",
    "            [df_gdp_data, df_current], ignore_index=True\n",
    "        )"
   ]
  },
  {
   "cell_type": "code",
   "execution_count": null,
   "id": "17",
   "metadata": {},
   "outputs": [],
   "source": [
    "print(df_gdp_data.shape)\n",
    "df_gdp_data.head()"
   ]
  },
  {
   "cell_type": "markdown",
   "id": "18",
   "metadata": {},
   "source": [
    "#### Electricity Demand Data"
   ]
  },
  {
   "cell_type": "code",
   "execution_count": null,
   "id": "19",
   "metadata": {},
   "outputs": [],
   "source": [
    "electricity_demand_folder = \"./data/electricity_demand/\""
   ]
  },
  {
   "cell_type": "code",
   "execution_count": null,
   "id": "20",
   "metadata": {},
   "outputs": [],
   "source": [
    "demand_files = [\n",
    "    file_name\n",
    "    for file_name in os.listdir(electricity_demand_folder)\n",
    "    if file_name.endswith(\".parquet\")\n",
    "]"
   ]
  },
  {
   "cell_type": "code",
   "execution_count": null,
   "id": "21",
   "metadata": {},
   "outputs": [],
   "source": [
    "df_demand = pandas.DataFrame()\n",
    "\n",
    "for file_name in tqdm(demand_files):\n",
    "    df_current = pandas.read_parquet(electricity_demand_folder + file_name)\n",
    "\n",
    "    df_current[\"Load (MW)\"] = df_current[\"Load (MW)\"].astype(float)\n",
    "\n",
    "    df_current = df_current.resample(\n",
    "        \"1h\", label=\"right\", closed=\"right\"\n",
    "    ).mean()\n",
    "\n",
    "    # Add a column for the region name\n",
    "    df_current[\"region_code\"] = str.join(\"_\", file_name.split(\"_\")[:-1])\n",
    "\n",
    "    # Reset index to move \"Time (UTC)\" to a column\n",
    "    df_current = df_current.reset_index()\n",
    "\n",
    "    df_demand = pandas.concat([df_demand, df_current], ignore_index=True)"
   ]
  },
  {
   "cell_type": "code",
   "execution_count": null,
   "id": "22",
   "metadata": {},
   "outputs": [],
   "source": [
    "print(df_demand.shape)\n",
    "df_demand.head()"
   ]
  },
  {
   "cell_type": "markdown",
   "id": "23",
   "metadata": {},
   "source": [
    "#### Combine all datasets"
   ]
  },
  {
   "cell_type": "code",
   "execution_count": null,
   "id": "24",
   "metadata": {},
   "outputs": [],
   "source": [
    "df_annual_demand = df_annual_demand.sort_values(by=[\"Time (UTC)\"])\n",
    "df_all_temperature = df_all_temperature.sort_values(by=[\"Time (UTC)\"])\n",
    "df_demand = df_demand.sort_values(by=[\"Time (UTC)\"])"
   ]
  },
  {
   "cell_type": "code",
   "execution_count": null,
   "id": "25",
   "metadata": {},
   "outputs": [],
   "source": [
    "combined_dataset = pandas.merge(\n",
    "    df_all_temperature, df_annual_demand, on=[\"Time (UTC)\", \"region_code\"]\n",
    ")"
   ]
  },
  {
   "cell_type": "code",
   "execution_count": null,
   "id": "26",
   "metadata": {},
   "outputs": [],
   "source": [
    "print(combined_dataset.shape)\n",
    "combined_dataset.head()"
   ]
  },
  {
   "cell_type": "code",
   "execution_count": null,
   "id": "27",
   "metadata": {},
   "outputs": [],
   "source": [
    "combined_dataset = pandas.merge(\n",
    "    combined_dataset, df_demand, on=[\"Time (UTC)\", \"region_code\"]\n",
    ")"
   ]
  },
  {
   "cell_type": "code",
   "execution_count": null,
   "id": "28",
   "metadata": {},
   "outputs": [],
   "source": [
    "print(combined_dataset.shape)\n",
    "combined_dataset.head()"
   ]
  },
  {
   "cell_type": "code",
   "execution_count": null,
   "id": "29",
   "metadata": {},
   "outputs": [],
   "source": [
    "combined_dataset = pandas.merge(\n",
    "    combined_dataset,\n",
    "    df_gdp_data.drop(columns=[\"country_code\"]),\n",
    "    left_on=[\"Local year\", \"region_code\"],\n",
    "    right_on=[\"year\", \"region_code\"],\n",
    ")"
   ]
  },
  {
   "cell_type": "code",
   "execution_count": null,
   "id": "30",
   "metadata": {},
   "outputs": [],
   "source": [
    "print(combined_dataset.shape)\n",
    "combined_dataset.head()"
   ]
  },
  {
   "cell_type": "code",
   "execution_count": null,
   "id": "31",
   "metadata": {},
   "outputs": [],
   "source": [
    "combined_dataset = combined_dataset.drop(columns=[\"year\"])"
   ]
  },
  {
   "cell_type": "code",
   "execution_count": null,
   "id": "32",
   "metadata": {},
   "outputs": [],
   "source": [
    "row_count = len(combined_dataset)\n",
    "print(\"Before removing duplicates:\", row_count)\n",
    "combined_dataset = combined_dataset.drop_duplicates(\n",
    "    subset=[col for col in combined_dataset.columns if col != \"Load (MW)\"]\n",
    ")\n",
    "print(\"Without duplicates: \", len(combined_dataset))\n",
    "print(\"Difference\", row_count - len(combined_dataset))"
   ]
  },
  {
   "cell_type": "code",
   "execution_count": null,
   "id": "33",
   "metadata": {},
   "outputs": [],
   "source": [
    "row_count = len(combined_dataset)\n",
    "print(\"Before removing NaN values:\", row_count)\n",
    "combined_dataset = combined_dataset.dropna()\n",
    "print(\"Without duplicates: \", len(combined_dataset))\n",
    "print(\"Difference\", row_count - len(combined_dataset))"
   ]
  },
  {
   "cell_type": "code",
   "execution_count": null,
   "id": "34",
   "metadata": {},
   "outputs": [],
   "source": [
    "combined_dataset = combined_dataset.rename(\n",
    "    columns={\n",
    "        \"Time (UTC)\": \"time_utc\",\n",
    "        \"Local hour of the day\": \"local_hour\",\n",
    "        \"Local weekend indicator\": \"is_weekend\",\n",
    "        \"Local month of the year\": \"local_month\",\n",
    "        \"Local year\": \"local_year\",\n",
    "        \"Temperature - Top 1 (K)\": \"year_temp_top1\",\n",
    "        \"Temperature - Top 3 (K)\": \"year_temp_top3\",\n",
    "        \"Monthly average temperature - Top 1 (K)\": \"monthly_temp_avg_top1\",\n",
    "        \"Monthly average temperature rank - Top 1\": \"monthly_temp_avg_rank_top1\",\n",
    "        \"Annual average temperature - Top 1 (K)\": \"year_temp_avg_top1\",\n",
    "        \"5 percentile temperature - Top 1 (K)\": \"year_temp_percentile_5\",\n",
    "        \"95 percentile temperature - Top 1 (K)\": \"year_temp_percentile_95\",\n",
    "        \"Annual electricity demand (TWh)\": \"year_electricity_demand\",\n",
    "        \"Annual electricity demand per capita (MWh)\": \"year_electricity_demand_per_capita\",\n",
    "        \"Load (MW)\": \"load_mw\",\n",
    "        \"GDP\": \"year_gdp_ppp\",\n",
    "    }\n",
    ")"
   ]
  },
  {
   "cell_type": "code",
   "execution_count": null,
   "id": "35",
   "metadata": {},
   "outputs": [],
   "source": [
    "combined_dataset.to_parquet(\n",
    "    \"./data/combined_dataset.parquet\", engine=\"pyarrow\"\n",
    ")"
   ]
  },
  {
   "cell_type": "code",
   "execution_count": null,
   "id": "36",
   "metadata": {},
   "outputs": [],
   "source": [
    "combined_dataset = pandas.read_parquet(\n",
    "    \"./data/combined_dataset.parquet\", engine=\"pyarrow\"\n",
    ")"
   ]
  },
  {
   "cell_type": "markdown",
   "id": "37",
   "metadata": {},
   "source": [
    "### Split into train, test, and validation datasets"
   ]
  },
  {
   "cell_type": "code",
   "execution_count": null,
   "id": "38",
   "metadata": {},
   "outputs": [],
   "source": [
    "test_set = pandas.DataFrame()\n",
    "test_set_indices = []\n",
    "validation_set = pandas.DataFrame()\n",
    "validation_set_indices = []\n",
    "\n",
    "for name, group in combined_dataset.groupby(\"region_code\"):\n",
    "    max_year = group[\"local_year\"].max()\n",
    "\n",
    "    group_val_set = group[group[\"local_year\"] == max_year].copy()\n",
    "\n",
    "    validation_set_indices.append(group_val_set.index)\n",
    "\n",
    "    validation_set = pandas.concat(\n",
    "        [validation_set, group_val_set], ignore_index=True\n",
    "    )\n",
    "\n",
    "    group_test_set = group[group[\"local_year\"] == max_year - 1].copy()\n",
    "\n",
    "    test_set_indices.append(group_test_set.index)\n",
    "\n",
    "    test_set = pandas.concat([test_set, group_test_set], ignore_index=True)"
   ]
  },
  {
   "cell_type": "code",
   "execution_count": null,
   "id": "39",
   "metadata": {},
   "outputs": [],
   "source": [
    "len(test_set) / len(combined_dataset)"
   ]
  },
  {
   "cell_type": "code",
   "execution_count": null,
   "id": "40",
   "metadata": {},
   "outputs": [],
   "source": [
    "len(validation_set) / len(combined_dataset)"
   ]
  },
  {
   "cell_type": "code",
   "execution_count": null,
   "id": "41",
   "metadata": {},
   "outputs": [],
   "source": [
    "# Drop test and validation sets from the combined dataset\n",
    "train_set = combined_dataset.drop(index=test_set_indices[0])\n",
    "train_set = train_set.drop(index=validation_set_indices[0])"
   ]
  },
  {
   "cell_type": "code",
   "execution_count": null,
   "id": "42",
   "metadata": {},
   "outputs": [],
   "source": [
    "train_set.head()"
   ]
  },
  {
   "cell_type": "code",
   "execution_count": null,
   "id": "43",
   "metadata": {},
   "outputs": [],
   "source": [
    "def prepare_data(dataset: pandas.DataFrame):\n",
    "    \"\"\"\n",
    "    Process the dataset into splits to be used in training the model.\n",
    "\n",
    "    Returns\n",
    "    -------\n",
    "    features : pandas.DataFrame\n",
    "        Features for the model.\n",
    "    target : pandas.Series\n",
    "        Column with the target variable.\n",
    "    groups : pandas.Series\n",
    "        Column containing the region codes\n",
    "    \"\"\"\n",
    "    features = dataset.drop(\n",
    "        columns=[\"time_utc\", \"local_year\", \"load_mw\", \"region_code\"]\n",
    "    ).copy()\n",
    "    target = dataset[\"load_mw\"].copy()\n",
    "    groups = dataset[\"region_code\"].copy()\n",
    "\n",
    "    return features, target, groups"
   ]
  },
  {
   "cell_type": "code",
   "execution_count": null,
   "id": "44",
   "metadata": {},
   "outputs": [],
   "source": [
    "train_features, train_target, train_groups = prepare_data(train_set)\n",
    "test_features, test_target, test_groups = prepare_data(test_set)\n",
    "val_features, val_target, val_groups = prepare_data(validation_set)"
   ]
  },
  {
   "cell_type": "code",
   "execution_count": null,
   "id": "45",
   "metadata": {},
   "outputs": [],
   "source": [
    "train_features.head()"
   ]
  },
  {
   "cell_type": "code",
   "execution_count": null,
   "id": "46",
   "metadata": {},
   "outputs": [],
   "source": [
    "train_features.describe()"
   ]
  },
  {
   "cell_type": "markdown",
   "id": "47",
   "metadata": {},
   "source": [
    "### Training"
   ]
  },
  {
   "cell_type": "code",
   "execution_count": null,
   "id": "48",
   "metadata": {},
   "outputs": [],
   "source": [
    "from sklearn.metrics import mean_absolute_error\n",
    "from xgboost import XGBRegressor"
   ]
  },
  {
   "cell_type": "code",
   "execution_count": null,
   "id": "49",
   "metadata": {},
   "outputs": [],
   "source": [
    "# Initialize the XGBoost regressor\n",
    "xgb_model = XGBRegressor(random_state=42, eval_metric=mean_absolute_error)"
   ]
  },
  {
   "cell_type": "code",
   "execution_count": null,
   "id": "50",
   "metadata": {},
   "outputs": [],
   "source": [
    "# Train the model\n",
    "xgb_model.fit(\n",
    "    train_features, train_target, eval_set=[(test_features, test_target)]\n",
    ")"
   ]
  },
  {
   "cell_type": "code",
   "execution_count": null,
   "id": "51",
   "metadata": {},
   "outputs": [],
   "source": [
    "val_features, val_target, val_groups = prepare_data(validation_set)"
   ]
  },
  {
   "cell_type": "code",
   "execution_count": null,
   "id": "52",
   "metadata": {},
   "outputs": [],
   "source": [
    "test_features, test_target, test_groups = prepare_data(test_set)"
   ]
  },
  {
   "cell_type": "code",
   "execution_count": null,
   "id": "53",
   "metadata": {},
   "outputs": [],
   "source": [
    "val_predictions = xgb_model.predict(val_features)"
   ]
  },
  {
   "cell_type": "code",
   "execution_count": null,
   "id": "54",
   "metadata": {},
   "outputs": [],
   "source": [
    "mean_absolute_error(val_predictions, val_target)"
   ]
  },
  {
   "cell_type": "code",
   "execution_count": null,
   "id": "55",
   "metadata": {},
   "outputs": [],
   "source": [
    "xgb_model.evals_result()"
   ]
  },
  {
   "cell_type": "code",
   "execution_count": null,
   "id": "56",
   "metadata": {},
   "outputs": [],
   "source": [
    "xgb_model.save_model(\"./data/xgboost_model.bin\")"
   ]
  }
 ],
 "metadata": {
  "kernelspec": {
   "display_name": "Python 3 (ipykernel)",
   "language": "python",
   "name": "python3"
  },
  "language_info": {
   "codemirror_mode": {
    "name": "ipython",
    "version": 3
   },
   "file_extension": ".py",
   "mimetype": "text/x-python",
   "name": "python",
   "nbconvert_exporter": "python",
   "pygments_lexer": "ipython3",
   "version": "3.12.11"
  }
 },
 "nbformat": 4,
 "nbformat_minor": 5
}
