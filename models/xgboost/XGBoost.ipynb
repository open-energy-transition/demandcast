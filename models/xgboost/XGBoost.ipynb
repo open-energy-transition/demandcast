{
 "cells": [
  {
   "cell_type": "code",
   "execution_count": null,
   "id": "0",
   "metadata": {},
   "outputs": [],
   "source": [
    "import os\n",
    "\n",
    "import numpy\n",
    "import pandas\n",
    "import yaml\n",
    "from tqdm import tqdm"
   ]
  },
  {
   "cell_type": "code",
   "execution_count": null,
   "id": "1",
   "metadata": {},
   "outputs": [],
   "source": [
    "os.listdir(\"./data/toktarova_et_al_2019/\")"
   ]
  },
  {
   "cell_type": "code",
   "execution_count": null,
   "id": "2",
   "metadata": {},
   "outputs": [],
   "source": [
    "with open(\"./data/gegis__all_countries.yaml\", \"r\") as file:\n",
    "    data = yaml.safe_load(file)"
   ]
  },
  {
   "cell_type": "code",
   "execution_count": null,
   "id": "3",
   "metadata": {},
   "outputs": [],
   "source": [
    "items = data[\"items\"]\n",
    "gegis_countries = [[item[\"country_name\"], item[\"country_code\"]] for item in items]"
   ]
  },
  {
   "cell_type": "code",
   "execution_count": null,
   "id": "4",
   "metadata": {},
   "outputs": [],
   "source": [
    "gegis_country_codes = numpy.array(gegis_countries).T[1]"
   ]
  },
  {
   "cell_type": "code",
   "execution_count": null,
   "id": "5",
   "metadata": {},
   "outputs": [],
   "source": [
    "gegis_countries"
   ]
  },
  {
   "cell_type": "markdown",
   "id": "6",
   "metadata": {},
   "source": [
    "## Features\n",
    "\n",
    "\"\"\"\n",
    "\n",
    "We take time series of hourly electricity demand for 44 countries from Toktarova et al. [15] and fit a gradient boosting regression model [32] to demand time series for each country normalized to their annual mean\n",
    "\n",
    "Estimates of annual country-level annual electricity generation in 2050 were produced by extrapolating annual demand in 2016 [33] using regional demand growth in the SSP2-26 scenario\n",
    "\n",
    "Therefore we chose to train our model on ten independent var­\n",
    "iables: \n",
    "\n",
    "(i + ii) annual per-capita electricity demand and purchase-power adjusted GDP (for prediction, we extrapolated this to 2050 using the SSP2 scenario in a similar way to demand as above), \n",
    "\n",
    "(iii) average hourly temperature profiles over the year in the 3 most densely populated areas of each country [35,36], \n",
    "\n",
    "(iv) the mean annual temperature level,\n",
    "\n",
    "(v) the 1st temperature percentile across the year (to represent how low the temperature dips go),\n",
    "\n",
    "(vi) the 99th percentile (to represent how high temperature spikes go),\n",
    "\n",
    "(vii) hour of the day,\n",
    "\n",
    "(viii) a weekday/weekend indicator,\n",
    "\n",
    "(ix) mean monthly temperature levels, and\n",
    "\n",
    "(x) a temperature-based ranking of months of the year\n",
    "(where the first month is the coldest month, and the month ranked last is the warmest across the year).\n",
    "The temperature ranking of months was chosen in order to reflect that different countries have summer in different calendar months.\n",
    "\n",
    "\"\"\"\n",
    "\n"
   ]
  },
  {
   "cell_type": "markdown",
   "id": "7",
   "metadata": {},
   "source": [
    "### (i) annual per-capita electricity demand"
   ]
  },
  {
   "cell_type": "code",
   "execution_count": null,
   "id": "8",
   "metadata": {},
   "outputs": [],
   "source": [
    "ElectricityPerCapita = pandas.read_csv(\n",
    "    \"./data/toktarova_et_al_2019/ElectricityperCapita.csv\", index_col=0, header=1\n",
    ")"
   ]
  },
  {
   "cell_type": "code",
   "execution_count": null,
   "id": "9",
   "metadata": {},
   "outputs": [],
   "source": [
    "ElectricityPerCapita.columns = [\n",
    "    int(float(col_name)) if col_name.split(\".\")[0].isdigit() else col_name\n",
    "    for col_name in ElectricityPerCapita.columns\n",
    "]"
   ]
  },
  {
   "cell_type": "code",
   "execution_count": null,
   "id": "10",
   "metadata": {},
   "outputs": [],
   "source": [
    "ElectricityPerCapita.head()"
   ]
  },
  {
   "cell_type": "code",
   "execution_count": null,
   "id": "11",
   "metadata": {},
   "outputs": [],
   "source": [
    "import pycountry\n",
    "\n",
    "\n",
    "def search_pycountry(country_name: str) -> str | None:\n",
    "    try:\n",
    "        # Try to find the country\n",
    "        country = pycountry.countries.search_fuzzy(country_name)[0]\n",
    "        return country.alpha_2\n",
    "    except LookupError:\n",
    "        return None\n",
    "\n",
    "\n",
    "def get_country_codes(country_names):\n",
    "    country_codes = []\n",
    "    for country_name in country_names:\n",
    "        found_country_code = search_pycountry(country_name)\n",
    "        if not (found_country_code):\n",
    "            print(\"Not Found:\", country_name)\n",
    "\n",
    "        country_codes.append(found_country_code)\n",
    "    return country_codes"
   ]
  },
  {
   "cell_type": "code",
   "execution_count": null,
   "id": "12",
   "metadata": {},
   "outputs": [],
   "source": [
    "ElectricityPerCapita.insert(\n",
    "    1, \"country_code\", get_country_codes(ElectricityPerCapita[\"Countries\"])\n",
    ")"
   ]
  },
  {
   "cell_type": "code",
   "execution_count": null,
   "id": "13",
   "metadata": {},
   "outputs": [],
   "source": [
    "# Print gegis countries not found by search\n",
    "for code in gegis_country_codes:\n",
    "    if code not in ElectricityPerCapita[\"country_code\"].values:\n",
    "        print(code)"
   ]
  },
  {
   "cell_type": "code",
   "execution_count": null,
   "id": "14",
   "metadata": {},
   "outputs": [],
   "source": [
    "# Adjust the missing countries\n",
    "index_cc_BA = ElectricityPerCapita[\n",
    "    ElectricityPerCapita[\"Countries\"] == \"Bosnia-Herzegovina\"\n",
    "].index\n",
    "ElectricityPerCapita.loc[index_cc_BA, \"country_code\"] = \"BA\"\n",
    "\n",
    "index_cc_RS = ElectricityPerCapita[\n",
    "    ElectricityPerCapita[\"Countries\"] == \"Serbia (former Yugoslavia)\"\n",
    "].index\n",
    "ElectricityPerCapita.loc[index_cc_RS, \"country_code\"] = \"RS\"\n",
    "\n",
    "index_cc_KR = ElectricityPerCapita[\n",
    "    ElectricityPerCapita[\"Countries\"] == \"Korea. Republic of\"\n",
    "].index\n",
    "ElectricityPerCapita.loc[index_cc_KR, \"country_code\"] = \"KR\"\n",
    "\n",
    "index_cc_TR = ElectricityPerCapita[ElectricityPerCapita[\"Countries\"] == \"Turkey\"].index\n",
    "ElectricityPerCapita.loc[index_cc_TR, \"country_code\"] = \"TR\""
   ]
  },
  {
   "cell_type": "code",
   "execution_count": null,
   "id": "15",
   "metadata": {},
   "outputs": [],
   "source": [
    "list_ids_gegis = []\n",
    "for i in range(len(ElectricityPerCapita)):\n",
    "    current_row = ElectricityPerCapita.iloc[i]\n",
    "\n",
    "    if current_row[\"country_code\"] in gegis_country_codes:\n",
    "        list_ids_gegis += [i]"
   ]
  },
  {
   "cell_type": "code",
   "execution_count": null,
   "id": "16",
   "metadata": {},
   "outputs": [],
   "source": [
    "ElectricityPerCapita = ElectricityPerCapita.iloc[list_ids_gegis]"
   ]
  },
  {
   "cell_type": "code",
   "execution_count": null,
   "id": "17",
   "metadata": {},
   "outputs": [],
   "source": [
    "# Drop manually found incorrect countries (usually territories)\n",
    "ElectricityPerCapita = ElectricityPerCapita.drop([207, 211, 220])"
   ]
  },
  {
   "cell_type": "code",
   "execution_count": null,
   "id": "18",
   "metadata": {},
   "outputs": [],
   "source": [
    "ElectricityPerCapita[[\"country_code\", 2015]]"
   ]
  },
  {
   "cell_type": "code",
   "execution_count": null,
   "id": "19",
   "metadata": {},
   "outputs": [],
   "source": [
    "toktarova_indicies = ElectricityPerCapita.index"
   ]
  },
  {
   "cell_type": "code",
   "execution_count": null,
   "id": "20",
   "metadata": {},
   "outputs": [],
   "source": [
    "ElectricityPerCapita_2015 = ElectricityPerCapita[[\"country_code\", 2015]].copy()\n",
    "ElectricityPerCapita_2015.rename(\n",
    "    columns={2015: \"ElectricityPerCapita_2015\"}, inplace=True\n",
    ")"
   ]
  },
  {
   "cell_type": "code",
   "execution_count": null,
   "id": "21",
   "metadata": {},
   "outputs": [],
   "source": [
    "ElectricityPerCapita_2015.head()"
   ]
  },
  {
   "cell_type": "markdown",
   "id": "22",
   "metadata": {},
   "source": [
    "## (ii) purchase-power adjusted GDP "
   ]
  },
  {
   "cell_type": "code",
   "execution_count": null,
   "id": "23",
   "metadata": {},
   "outputs": [],
   "source": [
    "GDP_PPP = pandas.read_csv(\n",
    "    \"./data/toktarova_et_al_2019/GDPperCapita.csv\", index_col=0, header=1\n",
    ")"
   ]
  },
  {
   "cell_type": "code",
   "execution_count": null,
   "id": "24",
   "metadata": {},
   "outputs": [],
   "source": [
    "GDP_PPP.columns = [\n",
    "    int(float(col_name)) if col_name.split(\".\")[0].isdigit() else col_name\n",
    "    for col_name in GDP_PPP.columns\n",
    "]"
   ]
  },
  {
   "cell_type": "code",
   "execution_count": null,
   "id": "25",
   "metadata": {},
   "outputs": [],
   "source": [
    "GDP_PPP[2015].count()"
   ]
  },
  {
   "cell_type": "code",
   "execution_count": null,
   "id": "26",
   "metadata": {},
   "outputs": [],
   "source": [
    "GDP_PPP = GDP_PPP.loc[toktarova_indicies]"
   ]
  },
  {
   "cell_type": "code",
   "execution_count": null,
   "id": "27",
   "metadata": {},
   "outputs": [],
   "source": [
    "GDP_PPP.insert(1, \"country_code\", ElectricityPerCapita[\"country_code\"])"
   ]
  },
  {
   "cell_type": "code",
   "execution_count": null,
   "id": "28",
   "metadata": {},
   "outputs": [],
   "source": [
    "GDP_PPP.head()"
   ]
  },
  {
   "cell_type": "code",
   "execution_count": null,
   "id": "29",
   "metadata": {},
   "outputs": [],
   "source": [
    "GDP_2015 = GDP_PPP[[\"country_code\", 2015]].copy()\n",
    "GDP_2015.rename(columns={2015: \"GDP_PPP_2015\"}, inplace=True)"
   ]
  },
  {
   "cell_type": "code",
   "execution_count": null,
   "id": "30",
   "metadata": {},
   "outputs": [],
   "source": [
    "GDP_2015.head()"
   ]
  },
  {
   "cell_type": "markdown",
   "id": "31",
   "metadata": {},
   "source": [
    "### (iii) average hourly temperature profiles over the year in the 3 most densely populated areas of each country [35,36]"
   ]
  },
  {
   "cell_type": "code",
   "execution_count": null,
   "id": "32",
   "metadata": {},
   "outputs": [],
   "source": [
    "from dotenv import dotenv_values\n",
    "\n",
    "config = dotenv_values(\".env\")"
   ]
  },
  {
   "cell_type": "code",
   "execution_count": null,
   "id": "33",
   "metadata": {},
   "outputs": [],
   "source": [
    "# ETL/temperature\n",
    "storage_bucket = config[\"GCSBUCKET\"]"
   ]
  },
  {
   "cell_type": "code",
   "execution_count": null,
   "id": "34",
   "metadata": {},
   "outputs": [],
   "source": [
    "df_temperature_top_3 = pandas.DataFrame()\n",
    "for country_code in tqdm(gegis_country_codes, desc=\"Processing countries\"):  # +\n",
    "    current_df = pandas.read_csv(\n",
    "        f\"{storage_bucket}/temperature/temperature_time_series_top_3_{country_code}_2015.csv\"\n",
    "    )\n",
    "    current_df.reset_index(inplace=True)\n",
    "    current_df[\"country_code\"] = country_code\n",
    "    df_temperature_top_3 = pandas.concat(\n",
    "        [df_temperature_top_3, current_df], ignore_index=True\n",
    "    )"
   ]
  },
  {
   "cell_type": "code",
   "execution_count": null,
   "id": "35",
   "metadata": {},
   "outputs": [],
   "source": [
    "df_temperature_top_3.rename(\n",
    "    columns={\"Temperature (K)\": \"Temperature top_3 (K)\"}, inplace=True\n",
    ")"
   ]
  },
  {
   "cell_type": "code",
   "execution_count": null,
   "id": "36",
   "metadata": {},
   "outputs": [],
   "source": [
    "df_temperature_top_3.head()"
   ]
  },
  {
   "cell_type": "code",
   "execution_count": null,
   "id": "37",
   "metadata": {},
   "outputs": [],
   "source": [
    "df_temperature_top_3.to_parquet(\"./data/temperature_top_3.parquet\")"
   ]
  },
  {
   "cell_type": "code",
   "execution_count": null,
   "id": "38",
   "metadata": {},
   "outputs": [],
   "source": [
    "df_temperature_top_3 = pandas.read_parquet(\"./data/temperature_top_3.parquet\")"
   ]
  },
  {
   "cell_type": "markdown",
   "id": "39",
   "metadata": {},
   "source": [
    "## ETL/temperature\n",
    "\n",
    "(iv) the mean annual temperature level,\n",
    "\n",
    "(v) the 1st temperature percentile across the year (to represent how low the temperature dips go), (5th percentile in our case)\n",
    "\n",
    "(vi) the 99th percentile (to represent how high temperature spikes go), (95th percentile in our case)\n",
    "\n",
    "(vii) hour of the day,\n",
    "\n",
    "(viii) a weekday/weekend indicator,\n",
    "\n",
    "(ix) mean monthly temperature levels, and\n",
    "\n",
    "(x) a temperature-based ranking of months of the year"
   ]
  },
  {
   "cell_type": "code",
   "execution_count": null,
   "id": "40",
   "metadata": {},
   "outputs": [],
   "source": [
    "df_temperature_top_1 = pandas.DataFrame()\n",
    "for country_code in tqdm(gegis_country_codes, desc=\"Processing countries\"):  # +\n",
    "    current_df = pandas.read_csv(\n",
    "        f\"{storage_bucket}/temperature/temperature_time_series_top_1_{country_code}_2015.csv\"\n",
    "    )\n",
    "    current_df.reset_index(inplace=True)\n",
    "    current_df[\"country_code\"] = country_code\n",
    "    df_temperature_top_1 = pandas.concat(\n",
    "        [df_temperature_top_1, current_df], ignore_index=True\n",
    "    )"
   ]
  },
  {
   "cell_type": "code",
   "execution_count": null,
   "id": "41",
   "metadata": {},
   "outputs": [],
   "source": [
    "df_temperature_top_1[\"weekend_indicator\"] = (\n",
    "    df_temperature_top_1[\"Local day of the week\"] >= 5\n",
    ").astype(int)"
   ]
  },
  {
   "cell_type": "code",
   "execution_count": null,
   "id": "42",
   "metadata": {},
   "outputs": [],
   "source": [
    "df_temperature_top_1.head()"
   ]
  },
  {
   "cell_type": "code",
   "execution_count": null,
   "id": "43",
   "metadata": {},
   "outputs": [],
   "source": [
    "df_temperature_top_1.to_parquet(\"./data/temperature_top_1.parquet\")"
   ]
  },
  {
   "cell_type": "code",
   "execution_count": null,
   "id": "44",
   "metadata": {},
   "outputs": [],
   "source": [
    "df_temperature_top_1 = pandas.read_parquet(\"./data/temperature_top_1.parquet\")"
   ]
  },
  {
   "cell_type": "markdown",
   "id": "45",
   "metadata": {},
   "source": [
    "## Target hourly electricity load data"
   ]
  },
  {
   "cell_type": "code",
   "execution_count": null,
   "id": "46",
   "metadata": {},
   "outputs": [],
   "source": [
    "Hourly_demand = pandas.read_csv(\n",
    "    \"./data/toktarova_et_al_2019/Real load hourly data.csv\", index_col=0, header=0\n",
    ")"
   ]
  },
  {
   "cell_type": "code",
   "execution_count": null,
   "id": "47",
   "metadata": {},
   "outputs": [],
   "source": [
    "Hourly_demand = Hourly_demand.T"
   ]
  },
  {
   "cell_type": "code",
   "execution_count": null,
   "id": "48",
   "metadata": {},
   "outputs": [],
   "source": [
    "Hourly_demand.index = Hourly_demand.index.astype(int)"
   ]
  },
  {
   "cell_type": "code",
   "execution_count": null,
   "id": "49",
   "metadata": {},
   "outputs": [],
   "source": [
    "selected_hourly_demand = Hourly_demand.loc[toktarova_indicies]"
   ]
  },
  {
   "cell_type": "code",
   "execution_count": null,
   "id": "50",
   "metadata": {},
   "outputs": [],
   "source": [
    "selected_hourly_demand.insert(1, \"country_code\", ElectricityPerCapita[\"country_code\"])"
   ]
  },
  {
   "cell_type": "code",
   "execution_count": null,
   "id": "51",
   "metadata": {},
   "outputs": [],
   "source": [
    "temp = selected_hourly_demand.loc[9]"
   ]
  },
  {
   "cell_type": "code",
   "execution_count": null,
   "id": "52",
   "metadata": {},
   "outputs": [],
   "source": [
    "selected_hourly_demand.head()"
   ]
  },
  {
   "cell_type": "code",
   "execution_count": null,
   "id": "53",
   "metadata": {},
   "outputs": [],
   "source": [
    "selected_hourly_demand.drop(\n",
    "    columns=[\n",
    "        \"Electricity consumption\",\n",
    "        \"Countryname\",\n",
    "        \"annual electricity consumption in TWh\",\n",
    "        \"average\",\n",
    "        \"R\",\n",
    "        \"Psyn\",\n",
    "        \"Preal\",\n",
    "    ],\n",
    "    inplace=True,\n",
    ")"
   ]
  },
  {
   "cell_type": "code",
   "execution_count": null,
   "id": "54",
   "metadata": {},
   "outputs": [],
   "source": [
    "selected_hourly_demand.columns"
   ]
  },
  {
   "cell_type": "code",
   "execution_count": null,
   "id": "55",
   "metadata": {},
   "outputs": [],
   "source": [
    "selected_hourly_demand.columns = [\n",
    "    int(col_name.split(\" \")[0].split(\"_\")[-1]) - 1\n",
    "    if col_name.split(\" \")[0].split(\"_\")[-1].isdigit()\n",
    "    else col_name\n",
    "    for col_name in selected_hourly_demand.columns\n",
    "]"
   ]
  },
  {
   "cell_type": "code",
   "execution_count": null,
   "id": "56",
   "metadata": {},
   "outputs": [],
   "source": [
    "selected_hourly_demand.head()"
   ]
  },
  {
   "cell_type": "code",
   "execution_count": null,
   "id": "57",
   "metadata": {},
   "outputs": [],
   "source": [
    "all_hourly_demand = pandas.DataFrame()\n",
    "\n",
    "for i in tqdm(range(len(selected_hourly_demand)), desc=\"Processing countries\"):\n",
    "    current_country_hourly_demand = pandas.DataFrame(selected_hourly_demand.iloc[i, 1:])\n",
    "    current_country_hourly_demand.columns = [\"hourly_demand\"]\n",
    "\n",
    "    current_country_hourly_demand[\"country_code\"] = selected_hourly_demand.iloc[i, 0]\n",
    "    current_country_hourly_demand.reset_index(inplace=True)\n",
    "\n",
    "    all_hourly_demand = pandas.concat(\n",
    "        [all_hourly_demand, current_country_hourly_demand], ignore_index=True\n",
    "    )"
   ]
  },
  {
   "cell_type": "code",
   "execution_count": null,
   "id": "58",
   "metadata": {},
   "outputs": [],
   "source": [
    "all_hourly_demand[\"country_code\"].unique()"
   ]
  },
  {
   "cell_type": "markdown",
   "id": "59",
   "metadata": {},
   "source": [
    "## Combine into a single dataframe for training"
   ]
  },
  {
   "cell_type": "code",
   "execution_count": null,
   "id": "60",
   "metadata": {},
   "outputs": [],
   "source": [
    "combined_dataset = pandas.merge(\n",
    "    all_hourly_demand, df_temperature_top_1, on=[\"country_code\", \"index\"]\n",
    ")"
   ]
  },
  {
   "cell_type": "code",
   "execution_count": null,
   "id": "61",
   "metadata": {},
   "outputs": [],
   "source": [
    "combined_dataset = pandas.merge(\n",
    "    combined_dataset,\n",
    "    df_temperature_top_3[[\"index\", \"country_code\", \"Temperature top_3 (K)\"]],\n",
    "    on=[\"country_code\", \"index\"],\n",
    ")"
   ]
  },
  {
   "cell_type": "code",
   "execution_count": null,
   "id": "62",
   "metadata": {},
   "outputs": [],
   "source": [
    "combined_dataset = pandas.merge(combined_dataset, GDP_2015, on=[\"country_code\"])\n",
    "combined_dataset = pandas.merge(\n",
    "    combined_dataset, ElectricityPerCapita_2015, on=[\"country_code\"]\n",
    ")"
   ]
  },
  {
   "cell_type": "code",
   "execution_count": null,
   "id": "63",
   "metadata": {},
   "outputs": [],
   "source": [
    "combined_dataset.columns"
   ]
  },
  {
   "cell_type": "code",
   "execution_count": null,
   "id": "64",
   "metadata": {},
   "outputs": [],
   "source": [
    "combined_dataset.drop(\n",
    "    columns=[\n",
    "        \"index\",\n",
    "        \"country_code\",\n",
    "        \"Time (UTC)\",\n",
    "        \"Local day of the week\",\n",
    "        \"Local year\",\n",
    "        \"Annual average temperature (K)\",\n",
    "    ],\n",
    "    inplace=True,\n",
    ")\n",
    "# To get the same as GEGIS: https://github.com/niclasmattsson/GlobalEnergyGIS?tab=readme-ov-file#synthetic-demand-list-of-training-variables"
   ]
  },
  {
   "cell_type": "code",
   "execution_count": null,
   "id": "65",
   "metadata": {},
   "outputs": [],
   "source": [
    "combined_dataset"
   ]
  },
  {
   "cell_type": "markdown",
   "id": "66",
   "metadata": {},
   "source": [
    "### Model"
   ]
  },
  {
   "cell_type": "code",
   "execution_count": null,
   "id": "67",
   "metadata": {},
   "outputs": [],
   "source": [
    "from sklearn.metrics import mean_squared_error, r2_score\n",
    "from sklearn.model_selection import train_test_split\n",
    "from xgboost import XGBRegressor"
   ]
  },
  {
   "cell_type": "code",
   "execution_count": null,
   "id": "68",
   "metadata": {},
   "outputs": [],
   "source": [
    "# Features\n",
    "features = combined_dataset.drop(columns=[\"hourly_demand\"])"
   ]
  },
  {
   "cell_type": "code",
   "execution_count": null,
   "id": "69",
   "metadata": {},
   "outputs": [],
   "source": [
    "features.head()"
   ]
  },
  {
   "cell_type": "code",
   "execution_count": null,
   "id": "70",
   "metadata": {},
   "outputs": [],
   "source": [
    "target = combined_dataset[\"hourly_demand\"]\n",
    "target.head()"
   ]
  },
  {
   "cell_type": "code",
   "execution_count": null,
   "id": "71",
   "metadata": {},
   "outputs": [],
   "source": [
    "X_train, X_test, y_train, y_test = train_test_split(\n",
    "    features, target, test_size=0.2, random_state=42\n",
    ")"
   ]
  },
  {
   "cell_type": "code",
   "execution_count": null,
   "id": "72",
   "metadata": {},
   "outputs": [],
   "source": [
    "# Initialize the XGBoost regressor\n",
    "xgb_model = XGBRegressor(\n",
    "    n_estimators=100, learning_rate=0.1, max_depth=5, random_state=42\n",
    ")\n",
    "\n",
    "# Train the model\n",
    "xgb_model.fit(X_train, y_train)"
   ]
  },
  {
   "cell_type": "code",
   "execution_count": null,
   "id": "73",
   "metadata": {},
   "outputs": [],
   "source": [
    "# Make predictions\n",
    "y_pred = xgb_model.predict(X_test)\n",
    "\n",
    "# Calculate MSE and R-squared\n",
    "mse = mean_squared_error(y_test, y_pred)\n",
    "r2 = r2_score(y_test, y_pred)\n",
    "\n",
    "print(f\"Mean Squared Error: {mse}\")\n",
    "print(f\"R-squared Score: {r2}\")"
   ]
  },
  {
   "cell_type": "code",
   "execution_count": null,
   "id": "74",
   "metadata": {},
   "outputs": [],
   "source": [
    "import matplotlib.pyplot as plt\n",
    "\n",
    "# Get feature importance\n",
    "importance = xgb_model.feature_importances_\n",
    "feature_names = features.columns\n",
    "\n",
    "# Sort features by importance\n",
    "indices = numpy.argsort(importance)\n",
    "\n",
    "# Plot feature importance\n",
    "plt.figure(figsize=(10, 6))\n",
    "plt.title(\"Feature Importance\")\n",
    "plt.barh(range(len(importance)), importance[indices])\n",
    "plt.yticks(range(len(importance)), [feature_names[i] for i in indices])\n",
    "plt.xlabel(\"Importance\")\n",
    "plt.tight_layout()\n",
    "plt.show()"
   ]
  },
  {
   "cell_type": "code",
   "execution_count": null,
   "id": "75",
   "metadata": {},
   "outputs": [],
   "source": []
  },
  {
   "cell_type": "code",
   "execution_count": null,
   "id": "76",
   "metadata": {},
   "outputs": [],
   "source": []
  }
 ],
 "metadata": {
  "kernelspec": {
   "display_name": "Python 3 (ipykernel)",
   "language": "python",
   "name": "python3"
  },
  "language_info": {
   "codemirror_mode": {
    "name": "ipython",
    "version": 3
   },
   "file_extension": ".py",
   "mimetype": "text/x-python",
   "name": "python",
   "nbconvert_exporter": "python",
   "pygments_lexer": "ipython3",
   "version": "3.12.9"
  }
 },
 "nbformat": 4,
 "nbformat_minor": 5
}
