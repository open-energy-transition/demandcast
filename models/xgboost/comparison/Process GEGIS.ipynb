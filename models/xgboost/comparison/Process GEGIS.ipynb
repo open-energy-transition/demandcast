{
 "cells": [
  {
   "cell_type": "code",
   "execution_count": 68,
   "id": "835d421e-5f30-4247-a320-f25a7a296b3e",
   "metadata": {},
   "outputs": [],
   "source": [
    "import pandas\n",
    "import os\n",
    "from tqdm import tqdm"
   ]
  },
  {
   "cell_type": "code",
   "execution_count": 114,
   "id": "05593f22",
   "metadata": {},
   "outputs": [],
   "source": [
    "def process_scenario(root_folder, year, era5_year, region):\n",
    "    df_current_scenario = pandas.read_csv(f\"{root_folder}/{year}/{era5_year}/{region}\", delimiter=\";\")\n",
    "\n",
    "    df_current_scenario[\"era5 source year\"] = era5_year.split(\"_\")[-1]\n",
    "    df_current_scenario[\"year\"] = year\n",
    "\n",
    "    # Namibia bug\n",
    "    df_current_scenario.loc[df_current_scenario[\"region_name\"] == \"Namibia\", \"region_code\"] = \"NA\"\n",
    "\n",
    "    df_current_scenario.sort_values([\"region_code\", \"time\"], inplace=True)\n",
    "\n",
    "    df_current_scenario['datetime'] = pandas.to_datetime(df_current_scenario['time'])\n",
    "    df_current_scenario['hour_of_year'] = (df_current_scenario['datetime'].dt.dayofyear - 1) * 24 + df_current_scenario['datetime'].dt.hour\n",
    "\n",
    "    df_current_scenario.drop(columns=[\"time\", \"datetime\", \"region_name\"], inplace=True)\n",
    "\n",
    "    return df_current_scenario"
   ]
  },
  {
   "cell_type": "code",
   "execution_count": 116,
   "id": "69189ce5",
   "metadata": {},
   "outputs": [],
   "source": [
    "root_folder = \"./comparison/GEGIS/ssp2-2.6/\"\n",
    "df_all_scenarios = pandas.DataFrame()\n",
    "\n",
    "for year in os.listdir(root_folder):\n",
    "    for era5_year in os.listdir(os.path.join(root_folder, year)):\n",
    "        for region in os.listdir(os.path.join(root_folder, year, era5_year)):\n",
    "            if region.endswith(\".csv\"):\n",
    "                df_all_scenarios = pandas.concat([df_all_scenarios, process_scenario(root_folder, year, era5_year, region)])"
   ]
  },
  {
   "cell_type": "code",
   "execution_count": 119,
   "id": "39f0334e",
   "metadata": {},
   "outputs": [],
   "source": [
    "df_all_scenarios.to_parquet(\"./comparison/GEGIS/ssp2-2.6_processed.parquet\")"
   ]
  },
  {
   "cell_type": "code",
   "execution_count": 121,
   "id": "59f53aab",
   "metadata": {},
   "outputs": [
    {
     "data": {
      "text/html": [
       "<div>\n",
       "<style scoped>\n",
       "    .dataframe tbody tr th:only-of-type {\n",
       "        vertical-align: middle;\n",
       "    }\n",
       "\n",
       "    .dataframe tbody tr th {\n",
       "        vertical-align: top;\n",
       "    }\n",
       "\n",
       "    .dataframe thead th {\n",
       "        text-align: right;\n",
       "    }\n",
       "</style>\n",
       "<table border=\"1\" class=\"dataframe\">\n",
       "  <thead>\n",
       "    <tr style=\"text-align: right;\">\n",
       "      <th></th>\n",
       "      <th>region_code</th>\n",
       "      <th>Electricity demand</th>\n",
       "      <th>era5 source year</th>\n",
       "      <th>year</th>\n",
       "      <th>hour_of_year</th>\n",
       "    </tr>\n",
       "  </thead>\n",
       "  <tbody>\n",
       "    <tr>\n",
       "      <th>0</th>\n",
       "      <td>AO</td>\n",
       "      <td>1288.203173</td>\n",
       "      <td>2018</td>\n",
       "      <td>2030</td>\n",
       "      <td>0</td>\n",
       "    </tr>\n",
       "    <tr>\n",
       "      <th>1</th>\n",
       "      <td>AO</td>\n",
       "      <td>1308.701208</td>\n",
       "      <td>2018</td>\n",
       "      <td>2030</td>\n",
       "      <td>1</td>\n",
       "    </tr>\n",
       "    <tr>\n",
       "      <th>2</th>\n",
       "      <td>AO</td>\n",
       "      <td>1315.373287</td>\n",
       "      <td>2018</td>\n",
       "      <td>2030</td>\n",
       "      <td>2</td>\n",
       "    </tr>\n",
       "    <tr>\n",
       "      <th>3</th>\n",
       "      <td>AO</td>\n",
       "      <td>1335.551572</td>\n",
       "      <td>2018</td>\n",
       "      <td>2030</td>\n",
       "      <td>3</td>\n",
       "    </tr>\n",
       "    <tr>\n",
       "      <th>4</th>\n",
       "      <td>AO</td>\n",
       "      <td>1521.880371</td>\n",
       "      <td>2018</td>\n",
       "      <td>2030</td>\n",
       "      <td>4</td>\n",
       "    </tr>\n",
       "    <tr>\n",
       "      <th>...</th>\n",
       "      <td>...</td>\n",
       "      <td>...</td>\n",
       "      <td>...</td>\n",
       "      <td>...</td>\n",
       "      <td>...</td>\n",
       "    </tr>\n",
       "    <tr>\n",
       "      <th>122635</th>\n",
       "      <td>VE</td>\n",
       "      <td>28137.441009</td>\n",
       "      <td>2013</td>\n",
       "      <td>2050</td>\n",
       "      <td>8755</td>\n",
       "    </tr>\n",
       "    <tr>\n",
       "      <th>122636</th>\n",
       "      <td>VE</td>\n",
       "      <td>28137.441009</td>\n",
       "      <td>2013</td>\n",
       "      <td>2050</td>\n",
       "      <td>8756</td>\n",
       "    </tr>\n",
       "    <tr>\n",
       "      <th>122637</th>\n",
       "      <td>VE</td>\n",
       "      <td>28282.094003</td>\n",
       "      <td>2013</td>\n",
       "      <td>2050</td>\n",
       "      <td>8757</td>\n",
       "    </tr>\n",
       "    <tr>\n",
       "      <th>122638</th>\n",
       "      <td>VE</td>\n",
       "      <td>28787.690805</td>\n",
       "      <td>2013</td>\n",
       "      <td>2050</td>\n",
       "      <td>8758</td>\n",
       "    </tr>\n",
       "    <tr>\n",
       "      <th>122639</th>\n",
       "      <td>VE</td>\n",
       "      <td>29718.137688</td>\n",
       "      <td>2013</td>\n",
       "      <td>2050</td>\n",
       "      <td>8759</td>\n",
       "    </tr>\n",
       "  </tbody>\n",
       "</table>\n",
       "<p>16810440 rows × 5 columns</p>\n",
       "</div>"
      ],
      "text/plain": [
       "       region_code  Electricity demand era5 source year  year  hour_of_year\n",
       "0               AO         1288.203173             2018  2030             0\n",
       "1               AO         1308.701208             2018  2030             1\n",
       "2               AO         1315.373287             2018  2030             2\n",
       "3               AO         1335.551572             2018  2030             3\n",
       "4               AO         1521.880371             2018  2030             4\n",
       "...            ...                 ...              ...   ...           ...\n",
       "122635          VE        28137.441009             2013  2050          8755\n",
       "122636          VE        28137.441009             2013  2050          8756\n",
       "122637          VE        28282.094003             2013  2050          8757\n",
       "122638          VE        28787.690805             2013  2050          8758\n",
       "122639          VE        29718.137688             2013  2050          8759\n",
       "\n",
       "[16810440 rows x 5 columns]"
      ]
     },
     "execution_count": 121,
     "metadata": {},
     "output_type": "execute_result"
    }
   ],
   "source": [
    "pandas.read_parquet(\"./comparison/GEGIS/ssp2-2.6_processed.parquet\")"
   ]
  },
  {
   "cell_type": "code",
   "execution_count": 122,
   "id": "5ac05441",
   "metadata": {},
   "outputs": [
    {
     "data": {
      "text/plain": [
       "region_code            object\n",
       "Electricity demand    float64\n",
       "era5 source year        int64\n",
       "year                    int64\n",
       "hour_of_year            int32\n",
       "dtype: object"
      ]
     },
     "execution_count": 122,
     "metadata": {},
     "output_type": "execute_result"
    }
   ],
   "source": [
    "df_current_scenario.dtypes"
   ]
  },
  {
   "cell_type": "code",
   "execution_count": null,
   "id": "122779ab",
   "metadata": {},
   "outputs": [],
   "source": []
  }
 ],
 "metadata": {
  "kernelspec": {
   "display_name": "Python 3 (ipykernel)",
   "language": "python",
   "name": "python3"
  },
  "language_info": {
   "codemirror_mode": {
    "name": "ipython",
    "version": 3
   },
   "file_extension": ".py",
   "mimetype": "text/x-python",
   "name": "python",
   "nbconvert_exporter": "python",
   "pygments_lexer": "ipython3",
   "version": "3.12.9"
  }
 },
 "nbformat": 4,
 "nbformat_minor": 5
}
