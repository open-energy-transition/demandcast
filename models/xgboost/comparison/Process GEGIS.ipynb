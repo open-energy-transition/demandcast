{
 "cells": [
  {
   "cell_type": "code",
   "execution_count": null,
   "id": "0",
   "metadata": {},
   "outputs": [],
   "source": [
    "import os\n",
    "\n",
    "import pandas"
   ]
  },
  {
   "cell_type": "code",
   "execution_count": null,
   "id": "1",
   "metadata": {},
   "outputs": [],
   "source": [
    "def process_scenario(root_folder, year, era5_year, region):\n",
    "    df_current_scenario = pandas.read_csv(\n",
    "        f\"{root_folder}/{year}/{era5_year}/{region}\", delimiter=\";\"\n",
    "    )\n",
    "\n",
    "    df_current_scenario[\"era5 source year\"] = era5_year.split(\"_\")[-1]\n",
    "    df_current_scenario[\"year\"] = year\n",
    "\n",
    "    # Namibia bug\n",
    "    df_current_scenario.loc[\n",
    "        df_current_scenario[\"region_name\"] == \"Namibia\", \"region_code\"\n",
    "    ] = \"NA\"\n",
    "\n",
    "    df_current_scenario.sort_values([\"region_code\", \"time\"], inplace=True)\n",
    "\n",
    "    df_current_scenario[\"datetime\"] = pandas.to_datetime(df_current_scenario[\"time\"])\n",
    "    df_current_scenario[\"hour_of_year\"] = (\n",
    "        df_current_scenario[\"datetime\"].dt.dayofyear - 1\n",
    "    ) * 24 + df_current_scenario[\"datetime\"].dt.hour\n",
    "\n",
    "    df_current_scenario.drop(columns=[\"time\", \"datetime\", \"region_name\"], inplace=True)\n",
    "\n",
    "    return df_current_scenario"
   ]
  },
  {
   "cell_type": "code",
   "execution_count": null,
   "id": "2",
   "metadata": {},
   "outputs": [],
   "source": [
    "root_folder = \"./comparison/GEGIS/ssp2-2.6/\"\n",
    "df_all_scenarios = pandas.DataFrame()\n",
    "\n",
    "for year in os.listdir(root_folder):\n",
    "    for era5_year in os.listdir(os.path.join(root_folder, year)):\n",
    "        for region in os.listdir(os.path.join(root_folder, year, era5_year)):\n",
    "            if region.endswith(\".csv\"):\n",
    "                df_all_scenarios = pandas.concat(\n",
    "                    [\n",
    "                        df_all_scenarios,\n",
    "                        process_scenario(root_folder, year, era5_year, region),\n",
    "                    ]\n",
    "                )"
   ]
  },
  {
   "cell_type": "code",
   "execution_count": null,
   "id": "3",
   "metadata": {},
   "outputs": [],
   "source": [
    "df_all_scenarios.to_parquet(\"./comparison/GEGIS/ssp2-2.6_processed.parquet\")"
   ]
  },
  {
   "cell_type": "code",
   "execution_count": null,
   "id": "4",
   "metadata": {},
   "outputs": [],
   "source": [
    "pandas.read_parquet(\"./comparison/GEGIS/ssp2-2.6_processed.parquet\")"
   ]
  },
  {
   "cell_type": "code",
   "execution_count": null,
   "id": "5",
   "metadata": {},
   "outputs": [],
   "source": [
    "df_current_scenario.dtypes"
   ]
  },
  {
   "cell_type": "code",
   "execution_count": null,
   "id": "6",
   "metadata": {},
   "outputs": [],
   "source": []
  }
 ],
 "metadata": {
  "kernelspec": {
   "display_name": "Python 3 (ipykernel)",
   "language": "python",
   "name": "python3"
  },
  "language_info": {
   "codemirror_mode": {
    "name": "ipython",
    "version": 3
   },
   "file_extension": ".py",
   "mimetype": "text/x-python",
   "name": "python",
   "nbconvert_exporter": "python",
   "pygments_lexer": "ipython3",
   "version": "3.12.9"
  }
 },
 "nbformat": 4,
 "nbformat_minor": 5
}
