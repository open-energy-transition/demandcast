{
 "cells": [
  {
   "cell_type": "markdown",
   "id": "0",
   "metadata": {},
   "source": [
    "## Notebook for processing files from Toktarova supplementary materials"
   ]
  },
  {
   "cell_type": "code",
   "execution_count": null,
   "id": "1",
   "metadata": {},
   "outputs": [],
   "source": [
    "import os\n",
    "\n",
    "import pandas"
   ]
  },
  {
   "cell_type": "code",
   "execution_count": null,
   "id": "2",
   "metadata": {},
   "outputs": [],
   "source": [
    "import pycountry\n",
    "\n",
    "\n",
    "def search_pycountry(country_name: str) -> str | None:\n",
    "    try:\n",
    "        # Try to find the country\n",
    "        country = pycountry.countries.search_fuzzy(country_name)[0]\n",
    "        return country.alpha_2\n",
    "    except LookupError:\n",
    "        return None\n",
    "\n",
    "\n",
    "def get_country_codes(country_names):\n",
    "    country_codes = []\n",
    "    for country_name in country_names:\n",
    "        found_country_code = search_pycountry(country_name)\n",
    "        if not (found_country_code):\n",
    "            # print(\"Not Found:\", country_name)\n",
    "            found_country_code = \"None\"\n",
    "            pass\n",
    "\n",
    "        country_codes.append(found_country_code)\n",
    "    return country_codes"
   ]
  },
  {
   "cell_type": "code",
   "execution_count": null,
   "id": "3",
   "metadata": {},
   "outputs": [],
   "source": [
    "def get_correct_columns(df_current_year):\n",
    "    df_country_codes = pandas.DataFrame(df_current_year.loc[1]).reset_index(drop=True)\n",
    "    # Remove the first row as it contains the country names\n",
    "    df_country_codes.drop(index=0, inplace=True)\n",
    "    df_country_codes = df_country_codes.reset_index(drop=True)\n",
    "    df_country_codes.columns = [\"Country Name\"]\n",
    "    df_country_codes[\"Country Code\"] = get_country_codes(\n",
    "        df_country_codes[\"Country Name\"]\n",
    "    )\n",
    "\n",
    "    df_country_codes.loc[21, \"Country Code\"] = \"BA\"\n",
    "    df_country_codes.loc[26, \"Country Code\"] = \"MM\"\n",
    "    df_country_codes.loc[28, \"Country Code\"] = \"KH\"\n",
    "    df_country_codes.loc[31, \"Country Code\"] = \"CV\"\n",
    "    df_country_codes.loc[38, \"Country Code\"] = \"CD\"\n",
    "    df_country_codes.loc[67, \"Country Code\"] = \"GW\"\n",
    "    df_country_codes.loc[81, \"Country Code\"] = \"CI\"\n",
    "    df_country_codes.loc[88, \"Country Code\"] = \"KP\"\n",
    "    df_country_codes.loc[89, \"Country Code\"] = \"KR\"\n",
    "    df_country_codes.loc[118, \"Country Code\"] = \"VU\"\n",
    "    df_country_codes.loc[121, \"Country Code\"] = \"NE\"  # misdetected country code\n",
    "    df_country_codes.loc[151, \"Country Code\"] = \"VC\"\n",
    "    df_country_codes.loc[153, \"Country Code\"] = \"SZ\"\n",
    "    df_country_codes.loc[158, \"Country Code\"] = \"TZ\"\n",
    "    df_country_codes.loc[163, \"Country Code\"] = \"TR\"\n",
    "\n",
    "    return [\"timestep\"] + df_country_codes[\"Country Code\"].values.tolist()"
   ]
  },
  {
   "cell_type": "code",
   "execution_count": null,
   "id": "4",
   "metadata": {},
   "outputs": [],
   "source": [
    "def extract_data_for_year(year: int) -> pandas.DataFrame:\n",
    "    df_current_year = pandas.read_csv(f\"./comparison/Toktarova/{year}.csv\")\n",
    "\n",
    "    df_country_codes = pandas.DataFrame(df_current_year.loc[1]).reset_index(drop=True)\n",
    "    df_current_year.columns = get_correct_columns(df_current_year)\n",
    "\n",
    "    # Drop rows of different\n",
    "    df_current_year.drop(index=[0, 1, 2, 3], inplace=True)\n",
    "    df_current_year.reset_index(drop=True, inplace=True)\n",
    "\n",
    "    df_current_year[\"timestep\"] = [\n",
    "        int(str_timestep.split(\" \")[0].split(\"_\")[-1]) - 1\n",
    "        for str_timestep in df_current_year[\"timestep\"]\n",
    "    ]\n",
    "\n",
    "    df_current_year.insert(0, \"year\", year)\n",
    "\n",
    "    return df_current_year"
   ]
  },
  {
   "cell_type": "code",
   "execution_count": null,
   "id": "5",
   "metadata": {},
   "outputs": [],
   "source": [
    "years_available = sorted(\n",
    "    [\n",
    "        file.split(\".\")[0]\n",
    "        for file in os.listdir(\"./comparison/Toktarova/\")\n",
    "        if file.endswith(\".csv\")\n",
    "    ]\n",
    ")\n",
    "print(years_available)"
   ]
  },
  {
   "cell_type": "markdown",
   "id": "6",
   "metadata": {},
   "source": [
    "#### 2020"
   ]
  },
  {
   "cell_type": "code",
   "execution_count": null,
   "id": "7",
   "metadata": {},
   "outputs": [],
   "source": [
    "extract_2020 = extract_data_for_year(2020)\n",
    "print(extract_2020.shape)\n",
    "extract_2020.head()"
   ]
  },
  {
   "cell_type": "markdown",
   "id": "8",
   "metadata": {},
   "source": [
    "#### 2030"
   ]
  },
  {
   "cell_type": "code",
   "execution_count": null,
   "id": "9",
   "metadata": {},
   "outputs": [],
   "source": [
    "extract_2030 = extract_data_for_year(2030)\n",
    "print(extract_2030.shape)\n",
    "extract_2030.head()"
   ]
  },
  {
   "cell_type": "markdown",
   "id": "10",
   "metadata": {},
   "source": [
    "#### 2040"
   ]
  },
  {
   "cell_type": "code",
   "execution_count": null,
   "id": "11",
   "metadata": {},
   "outputs": [],
   "source": [
    "extract_2040 = extract_data_for_year(2040)\n",
    "print(extract_2040.shape)\n",
    "extract_2040.head()"
   ]
  },
  {
   "cell_type": "markdown",
   "id": "12",
   "metadata": {},
   "source": [
    "#### 2050"
   ]
  },
  {
   "cell_type": "code",
   "execution_count": null,
   "id": "13",
   "metadata": {},
   "outputs": [],
   "source": [
    "extract_2050 = extract_data_for_year(2050)\n",
    "print(extract_2050.shape)\n",
    "extract_2050.head()"
   ]
  },
  {
   "cell_type": "markdown",
   "id": "14",
   "metadata": {},
   "source": [
    "#### 2060"
   ]
  },
  {
   "cell_type": "code",
   "execution_count": null,
   "id": "15",
   "metadata": {},
   "outputs": [],
   "source": [
    "extract_2060 = extract_data_for_year(2060)\n",
    "print(extract_2060.shape)\n",
    "extract_2060.head()"
   ]
  },
  {
   "cell_type": "markdown",
   "id": "16",
   "metadata": {},
   "source": [
    "#### 2070"
   ]
  },
  {
   "cell_type": "code",
   "execution_count": null,
   "id": "17",
   "metadata": {},
   "outputs": [],
   "source": [
    "extract_2070 = extract_data_for_year(2070)\n",
    "print(extract_2070.shape)\n",
    "extract_2070.head()"
   ]
  },
  {
   "cell_type": "markdown",
   "id": "18",
   "metadata": {},
   "source": [
    "#### 2080"
   ]
  },
  {
   "cell_type": "code",
   "execution_count": null,
   "id": "19",
   "metadata": {},
   "outputs": [],
   "source": [
    "extract_2080 = extract_data_for_year(2080)\n",
    "print(extract_2080.shape)\n",
    "extract_2080.head()"
   ]
  },
  {
   "cell_type": "markdown",
   "id": "20",
   "metadata": {},
   "source": [
    "#### 2090"
   ]
  },
  {
   "cell_type": "code",
   "execution_count": null,
   "id": "21",
   "metadata": {},
   "outputs": [],
   "source": [
    "extract_2090 = extract_data_for_year(2090)\n",
    "print(extract_2090.shape)\n",
    "extract_2090.head()"
   ]
  },
  {
   "cell_type": "markdown",
   "id": "22",
   "metadata": {},
   "source": [
    "#### 2100"
   ]
  },
  {
   "cell_type": "code",
   "execution_count": null,
   "id": "23",
   "metadata": {},
   "outputs": [],
   "source": [
    "extract_2100 = extract_data_for_year(2100)\n",
    "print(extract_2100.shape)\n",
    "extract_2100.head()"
   ]
  },
  {
   "cell_type": "markdown",
   "id": "24",
   "metadata": {},
   "source": [
    "#### Combine years"
   ]
  },
  {
   "cell_type": "code",
   "execution_count": null,
   "id": "25",
   "metadata": {},
   "outputs": [],
   "source": [
    "extract_all_years = pandas.concat(\n",
    "    [\n",
    "        extract_2020,\n",
    "        extract_2030,\n",
    "        extract_2040,\n",
    "        extract_2050,\n",
    "        extract_2060,\n",
    "        extract_2070,\n",
    "        extract_2080,\n",
    "        extract_2090,\n",
    "        extract_2100,\n",
    "    ],\n",
    "    ignore_index=True,\n",
    ")"
   ]
  },
  {
   "cell_type": "code",
   "execution_count": null,
   "id": "26",
   "metadata": {},
   "outputs": [],
   "source": [
    "extract_all_years.shape"
   ]
  },
  {
   "cell_type": "code",
   "execution_count": null,
   "id": "27",
   "metadata": {},
   "outputs": [],
   "source": [
    "extract_all_years.dtypes"
   ]
  },
  {
   "cell_type": "code",
   "execution_count": null,
   "id": "28",
   "metadata": {},
   "outputs": [],
   "source": [
    "extract_all_years.head()"
   ]
  },
  {
   "cell_type": "code",
   "execution_count": null,
   "id": "29",
   "metadata": {},
   "outputs": [],
   "source": [
    "for col in tqdm(extract_all_years.columns):\n",
    "    extract_all_years[col] = extract_all_years[col].apply(int)"
   ]
  },
  {
   "cell_type": "code",
   "execution_count": null,
   "id": "30",
   "metadata": {},
   "outputs": [],
   "source": [
    "extract_all_years.dtypes"
   ]
  },
  {
   "cell_type": "code",
   "execution_count": null,
   "id": "31",
   "metadata": {},
   "outputs": [],
   "source": [
    "extract_all_years.head()"
   ]
  },
  {
   "cell_type": "code",
   "execution_count": null,
   "id": "32",
   "metadata": {},
   "outputs": [],
   "source": [
    "extract_all_years.max().max()"
   ]
  },
  {
   "cell_type": "code",
   "execution_count": null,
   "id": "33",
   "metadata": {},
   "outputs": [],
   "source": [
    "extract_all_years.to_parquet(\n",
    "    \"./comparison/Toktarova/all_years.parquet\",\n",
    ")"
   ]
  },
  {
   "cell_type": "code",
   "execution_count": null,
   "id": "34",
   "metadata": {},
   "outputs": [],
   "source": [
    "df_current_year = pandas.read_csv(f\"./comparison/Toktarova/{2020}.csv\")"
   ]
  },
  {
   "cell_type": "code",
   "execution_count": null,
   "id": "35",
   "metadata": {},
   "outputs": [],
   "source": []
  },
  {
   "cell_type": "code",
   "execution_count": null,
   "id": "36",
   "metadata": {},
   "outputs": [],
   "source": [
    "df_current_year.head()"
   ]
  },
  {
   "cell_type": "code",
   "execution_count": null,
   "id": "37",
   "metadata": {},
   "outputs": [],
   "source": []
  },
  {
   "cell_type": "code",
   "execution_count": null,
   "id": "38",
   "metadata": {},
   "outputs": [],
   "source": [
    "df_current_year = pandas.read_csv(f\"./comparison/Toktarova/{2020}.csv\")\n",
    "\n",
    "df_country_codes = pandas.DataFrame(df_current_year.loc[1]).reset_index(drop=True)\n",
    "df_current_year.columns = get_correct_columns(df_current_year)\n",
    "\n",
    "# Drop rows of different\n",
    "df_current_year.drop(index=[0, 1, 2, 3], inplace=True)\n",
    "df_current_year.reset_index(drop=True, inplace=True)\n",
    "\n",
    "df_current_year[\"timestep\"] = [\n",
    "    int(str_timestep.split(\" \")[0].split(\"_\")[-1]) - 1\n",
    "    for str_timestep in df_current_year[\"timestep\"]\n",
    "]\n",
    "\n",
    "df_current_year.insert(0, \"year\", 2020)"
   ]
  },
  {
   "cell_type": "code",
   "execution_count": null,
   "id": "39",
   "metadata": {},
   "outputs": [],
   "source": [
    "df_current_year"
   ]
  },
  {
   "cell_type": "code",
   "execution_count": null,
   "id": "40",
   "metadata": {},
   "outputs": [],
   "source": []
  },
  {
   "cell_type": "code",
   "execution_count": null,
   "id": "41",
   "metadata": {},
   "outputs": [],
   "source": []
  }
 ],
 "metadata": {
  "kernelspec": {
   "display_name": "Python 3 (ipykernel)",
   "language": "python",
   "name": "python3"
  },
  "language_info": {
   "codemirror_mode": {
    "name": "ipython",
    "version": 3
   },
   "file_extension": ".py",
   "mimetype": "text/x-python",
   "name": "python",
   "nbconvert_exporter": "python",
   "pygments_lexer": "ipython3",
   "version": "3.12.9"
  }
 },
 "nbformat": 4,
 "nbformat_minor": 5
}
