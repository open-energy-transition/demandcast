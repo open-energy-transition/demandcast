{
 "cells": [
  {
   "cell_type": "markdown",
   "id": "fdfa5817",
   "metadata": {},
   "source": [
    "## Notebook for processing files from Toktarova supplementary materials"
   ]
  },
  {
   "cell_type": "code",
   "execution_count": 2,
   "id": "f3b8cb4c-114c-4ecf-81ff-093066b831aa",
   "metadata": {},
   "outputs": [],
   "source": [
    "import pandas\n",
    "import os"
   ]
  },
  {
   "cell_type": "code",
   "execution_count": 183,
   "id": "f7799d28",
   "metadata": {},
   "outputs": [],
   "source": [
    "import pycountry\n",
    "\n",
    "\n",
    "def search_pycountry(country_name: str) -> str | None:\n",
    "    try:\n",
    "        # Try to find the country\n",
    "        country = pycountry.countries.search_fuzzy(country_name)[0]\n",
    "        return country.alpha_2\n",
    "    except LookupError:\n",
    "        return None\n",
    "\n",
    "\n",
    "def get_country_codes(country_names):\n",
    "    country_codes = []\n",
    "    for country_name in country_names:\n",
    "        found_country_code = search_pycountry(country_name)\n",
    "        if not (found_country_code):\n",
    "            # print(\"Not Found:\", country_name)\n",
    "            found_country_code = \"None\"\n",
    "            pass\n",
    "\n",
    "        country_codes.append(found_country_code)\n",
    "    return country_codes"
   ]
  },
  {
   "cell_type": "code",
   "execution_count": 185,
   "id": "9d850636",
   "metadata": {},
   "outputs": [],
   "source": [
    "def get_correct_columns(df_current_year):\n",
    "    \n",
    "    df_country_codes = pandas.DataFrame(df_current_year.loc[1]).reset_index(drop=True)\n",
    "    # Remove the first row as it contains the country names\n",
    "    df_country_codes.drop(index=0, inplace=True)\n",
    "    df_country_codes = df_country_codes.reset_index(drop=True)\n",
    "    df_country_codes.columns = ['Country Name']\n",
    "    df_country_codes['Country Code'] = get_country_codes(df_country_codes['Country Name'])\n",
    "    print(df_current_year.head())\n",
    "\n",
    "    df_country_codes.loc[21,\"Country Code\"] = \"BA\"\n",
    "    df_country_codes.loc[26,\"Country Code\"] = \"MM\"\n",
    "    df_country_codes.loc[28,\"Country Code\"] = \"KH\"\n",
    "    df_country_codes.loc[31,\"Country Code\"] = \"CV\"\n",
    "    df_country_codes.loc[38,\"Country Code\"] = \"CD\"\n",
    "    df_country_codes.loc[67,\"Country Code\"] = \"GW\"\n",
    "    df_country_codes.loc[81,\"Country Code\"] = \"CI\"\n",
    "    df_country_codes.loc[88,\"Country Code\"] = \"KP\"\n",
    "    df_country_codes.loc[89,\"Country Code\"] = \"KR\"\n",
    "    df_country_codes.loc[118,\"Country Code\"] = \"VU\"\n",
    "    df_country_codes.loc[151,\"Country Code\"] = \"VC\"\n",
    "    df_country_codes.loc[153,\"Country Code\"] = \"SZ\"\n",
    "    df_country_codes.loc[158,\"Country Code\"] = \"TZ\"\n",
    "    df_country_codes.loc[163,\"Country Code\"] = \"TR\"\n",
    "\n",
    "    return [\"timestep\"] + df_country_codes[\"Country Code\"].values.tolist()"
   ]
  },
  {
   "cell_type": "code",
   "execution_count": null,
   "id": "4a5a6f2e",
   "metadata": {},
   "outputs": [],
   "source": [
    "def extract_data_for_year(year: int) -> pandas.DataFrame:\n",
    "    df_current_year = pandas.read_csv(f\"./comparison/Toktarova/{year}.csv\", delimiter=\";\")\n",
    "\n",
    "    df_country_codes = pandas.DataFrame(df_current_year.loc[1]).reset_index(drop=True)\n",
    "    df_current_year.columns = get_correct_columns(df_current_year)\n",
    "\n",
    "    # Drop rows of different \n",
    "    df_current_year.drop(index=[0,1,2,3], inplace=True)\n",
    "    df_current_year.reset_index(drop=True, inplace=True)\n",
    "\n",
    "    print(df_current_year[\"timestep\"])\n",
    "    df_current_year[\"timestep\"] = [int(str_timestep.split(\" \")[0].split(\"_\")[-1]) - 1 for str_timestep in df_current_year[\"timestep\"]]\n",
    "\n",
    "    df_current_year[\"year\"] = year\n",
    "\n",
    "    return df_current_year\n",
    "    "
   ]
  },
  {
   "cell_type": "code",
   "execution_count": 190,
   "id": "3da66892",
   "metadata": {},
   "outputs": [
    {
     "name": "stdout",
     "output_type": "stream",
     "text": [
      "                           Countrynumber            1            2  \\\n",
      "0                            Countryname  Afghanistan      Albania   \n",
      "1  annual electricity consumption in TWh   9,19186995  10,11532643   \n",
      "2                   synthetic peak in MW  1532,950566  1639,319734   \n",
      "3                           Hour_1 in MW  708,6741472  932,6792476   \n",
      "4                           Hour_2 in MW  686,6610016  934,3454279   \n",
      "\n",
      "             3            5                    7            9           10  \\\n",
      "0      Algeria       Angola  Antigua and Barbuda    Argentina      Armenia   \n",
      "1  99,80658614   33,2079296          0,401350638  196,1392119  9,165144217   \n",
      "2  17861,83257  5065,420414          58,90868234  26404,98624  1548,742169   \n",
      "3  6078,437955  3431,831925          39,54652336  20992,73843  942,7135548   \n",
      "4  5619,712832  3363,349699          37,78816308  20591,13511  902,0642141   \n",
      "\n",
      "            11           12  ...             193            194          196  \\\n",
      "0    Australia      Austria  ...  United Kingdom  United States      Uruguay   \n",
      "1  254,9152222  79,18422406  ...     418,8981331    5244,139945  15,31416192   \n",
      "2  36292,78252  12545,32266  ...      64724,1992    740899,1671   2419,59468   \n",
      "3  28330,78721  8945,928387  ...     44959,79527    559119,7981  1764,798878   \n",
      "4   27062,3359  8601,628006  ...     43123,60225     527365,424  1697,436495   \n",
      "\n",
      "           197          198          199          203          204  \\\n",
      "0   Uzbekistan    Venezuela      Vietnam        Yemen       Serbia   \n",
      "1  73,32052678  118,4420964   196,967139  11,84880558  39,53392697   \n",
      "2  13519,05932  17845,72884  29111,79183  2047,059863  6684,649248   \n",
      "3  7363,284705  10809,74693  19485,74193  868,5893318  4206,387769   \n",
      "4  7043,660143   10292,8449  19046,35763  815,1532528  4032,699998   \n",
      "\n",
      "           205          206  \n",
      "0       Zambia     Zimbabwe  \n",
      "1  19,34385334  12,58561072  \n",
      "2  3269,506099  2223,199489  \n",
      "3  2209,268846  1289,949423  \n",
      "4  2222,683385  1235,325314  \n",
      "\n",
      "[5 rows x 179 columns]\n",
      "0          Hour_2 in MW\n",
      "1          Hour_3 in MW\n",
      "2          Hour_4 in MW\n",
      "3          Hour_5 in MW\n",
      "4          Hour_6 in MW\n",
      "             ...       \n",
      "8754    Hour_8756 in MW\n",
      "8755    Hour_8757 in MW\n",
      "8756    Hour_8758 in MW\n",
      "8757    Hour_8759 in MW\n",
      "8758    Hour_8760 in MW\n",
      "Name: timestep, Length: 8759, dtype: object\n"
     ]
    }
   ],
   "source": [
    "test_2020 = extract_data_for_year(2020)"
   ]
  },
  {
   "cell_type": "code",
   "execution_count": 179,
   "id": "9b1fbb43",
   "metadata": {},
   "outputs": [
    {
     "name": "stdout",
     "output_type": "stream",
     "text": [
      "['2020', '2030', '2040', '2050', '2060', '2070', '2080', '2090', '2100']\n"
     ]
    }
   ],
   "source": [
    "years_available = sorted([file.split(\".\")[0] for file in os.listdir(\"./comparison/Toktarova/\") if file.endswith(\".csv\")])\n",
    "print(years_available)\n",
    "\n",
    "years_available.remove(\"2050\")\n",
    "years_available.remove(\"2060\")\n",
    "years_available.remove(\"2070\")\n"
   ]
  },
  {
   "cell_type": "code",
   "execution_count": 180,
   "id": "09755c1f",
   "metadata": {},
   "outputs": [
    {
     "name": "stderr",
     "output_type": "stream",
     "text": [
      "Processing Toktarova data per year:   0%|                                                                                 | 0/6 [00:00<?, ?it/s]"
     ]
    },
    {
     "name": "stdout",
     "output_type": "stream",
     "text": [
      "Collecting Toktarova data for year 2020\n"
     ]
    },
    {
     "name": "stderr",
     "output_type": "stream",
     "text": [
      "Processing Toktarova data per year:  17%|████████████▏                                                            | 1/6 [00:01<00:09,  1.92s/it]/tmp/ipykernel_55604/3051018246.py:10: FutureWarning: Setting an item of incompatible dtype is deprecated and will raise an error in a future version of pandas. Value 'BA' has dtype incompatible with float64, please explicitly cast to a compatible dtype first.\n",
      "  df_country_codes.loc[21,\"Country Code\"] = \"BA\"\n",
      "Processing Toktarova data per year:  17%|████████████▏                                                            | 1/6 [00:01<00:09,  1.98s/it]"
     ]
    },
    {
     "name": "stdout",
     "output_type": "stream",
     "text": [
      "0          Hour_1 in MW\n",
      "1          Hour_2 in MW\n",
      "2          Hour_3 in MW\n",
      "3          Hour_4 in MW\n",
      "4          Hour_5 in MW\n",
      "             ...       \n",
      "8755    Hour_8756 in MW\n",
      "8756    Hour_8757 in MW\n",
      "8757    Hour_8758 in MW\n",
      "8758    Hour_8759 in MW\n",
      "8759    Hour_8760 in MW\n",
      "Name: timestep, Length: 8760, dtype: object\n",
      "Collecting Toktarova data for year 2030\n"
     ]
    },
    {
     "name": "stderr",
     "output_type": "stream",
     "text": [
      "\n"
     ]
    },
    {
     "ename": "ValueError",
     "evalue": "Length mismatch: Expected axis has 1 elements, new values have 15 elements",
     "output_type": "error",
     "traceback": [
      "\u001b[31m---------------------------------------------------------------------------\u001b[39m",
      "\u001b[31mValueError\u001b[39m                                Traceback (most recent call last)",
      "\u001b[36mCell\u001b[39m\u001b[36m \u001b[39m\u001b[32mIn[180]\u001b[39m\u001b[32m, line 6\u001b[39m\n\u001b[32m      4\u001b[39m \u001b[38;5;28;01mfor\u001b[39;00m year \u001b[38;5;129;01min\u001b[39;00m tqdm(years_available, desc=\u001b[33m\"\u001b[39m\u001b[33mProcessing Toktarova data per year\u001b[39m\u001b[33m\"\u001b[39m):\n\u001b[32m      5\u001b[39m     \u001b[38;5;28mprint\u001b[39m(\u001b[33mf\u001b[39m\u001b[33m\"\u001b[39m\u001b[33mCollecting Toktarova data for year \u001b[39m\u001b[38;5;132;01m{\u001b[39;00myear\u001b[38;5;132;01m}\u001b[39;00m\u001b[33m\"\u001b[39m)\n\u001b[32m----> \u001b[39m\u001b[32m6\u001b[39m     df_current_year = \u001b[43mextract_data_for_year\u001b[49m\u001b[43m(\u001b[49m\u001b[43myear\u001b[49m\u001b[43m)\u001b[49m\n",
      "\u001b[36mCell\u001b[39m\u001b[36m \u001b[39m\u001b[32mIn[171]\u001b[39m\u001b[32m, line 5\u001b[39m, in \u001b[36mextract_data_for_year\u001b[39m\u001b[34m(year)\u001b[39m\n\u001b[32m      2\u001b[39m df_current_year = pandas.read_csv(\u001b[33mf\u001b[39m\u001b[33m\"\u001b[39m\u001b[33m./comparison/Toktarova/\u001b[39m\u001b[38;5;132;01m{\u001b[39;00myear\u001b[38;5;132;01m}\u001b[39;00m\u001b[33m.csv\u001b[39m\u001b[33m\"\u001b[39m, delimiter=\u001b[33m\"\u001b[39m\u001b[33m;\u001b[39m\u001b[33m\"\u001b[39m)\n\u001b[32m      4\u001b[39m df_country_codes = pandas.DataFrame(df_current_year.loc[\u001b[32m1\u001b[39m]).reset_index(drop=\u001b[38;5;28;01mTrue\u001b[39;00m)\n\u001b[32m----> \u001b[39m\u001b[32m5\u001b[39m \u001b[43mdf_current_year\u001b[49m\u001b[43m.\u001b[49m\u001b[43mcolumns\u001b[49m = get_correct_columns(df_current_year)\n\u001b[32m      7\u001b[39m \u001b[38;5;66;03m# Drop rows of different \u001b[39;00m\n\u001b[32m      8\u001b[39m df_current_year.drop(index=[\u001b[32m0\u001b[39m,\u001b[32m1\u001b[39m,\u001b[32m2\u001b[39m,\u001b[32m3\u001b[39m], inplace=\u001b[38;5;28;01mTrue\u001b[39;00m)\n",
      "\u001b[36mFile \u001b[39m\u001b[32m/workspaces/electric-demand-data/.venv/lib/python3.12/site-packages/pandas/core/generic.py:6313\u001b[39m, in \u001b[36mNDFrame.__setattr__\u001b[39m\u001b[34m(self, name, value)\u001b[39m\n\u001b[32m   6311\u001b[39m \u001b[38;5;28;01mtry\u001b[39;00m:\n\u001b[32m   6312\u001b[39m     \u001b[38;5;28mobject\u001b[39m.\u001b[34m__getattribute__\u001b[39m(\u001b[38;5;28mself\u001b[39m, name)\n\u001b[32m-> \u001b[39m\u001b[32m6313\u001b[39m     \u001b[38;5;28;01mreturn\u001b[39;00m \u001b[38;5;28;43mobject\u001b[39;49m\u001b[43m.\u001b[49m\u001b[34;43m__setattr__\u001b[39;49m\u001b[43m(\u001b[49m\u001b[38;5;28;43mself\u001b[39;49m\u001b[43m,\u001b[49m\u001b[43m \u001b[49m\u001b[43mname\u001b[49m\u001b[43m,\u001b[49m\u001b[43m \u001b[49m\u001b[43mvalue\u001b[49m\u001b[43m)\u001b[49m\n\u001b[32m   6314\u001b[39m \u001b[38;5;28;01mexcept\u001b[39;00m \u001b[38;5;167;01mAttributeError\u001b[39;00m:\n\u001b[32m   6315\u001b[39m     \u001b[38;5;28;01mpass\u001b[39;00m\n",
      "\u001b[36mFile \u001b[39m\u001b[32mproperties.pyx:69\u001b[39m, in \u001b[36mpandas._libs.properties.AxisProperty.__set__\u001b[39m\u001b[34m()\u001b[39m\n",
      "\u001b[36mFile \u001b[39m\u001b[32m/workspaces/electric-demand-data/.venv/lib/python3.12/site-packages/pandas/core/generic.py:814\u001b[39m, in \u001b[36mNDFrame._set_axis\u001b[39m\u001b[34m(self, axis, labels)\u001b[39m\n\u001b[32m    809\u001b[39m \u001b[38;5;250m\u001b[39m\u001b[33;03m\"\"\"\u001b[39;00m\n\u001b[32m    810\u001b[39m \u001b[33;03mThis is called from the cython code when we set the `index` attribute\u001b[39;00m\n\u001b[32m    811\u001b[39m \u001b[33;03mdirectly, e.g. `series.index = [1, 2, 3]`.\u001b[39;00m\n\u001b[32m    812\u001b[39m \u001b[33;03m\"\"\"\u001b[39;00m\n\u001b[32m    813\u001b[39m labels = ensure_index(labels)\n\u001b[32m--> \u001b[39m\u001b[32m814\u001b[39m \u001b[38;5;28;43mself\u001b[39;49m\u001b[43m.\u001b[49m\u001b[43m_mgr\u001b[49m\u001b[43m.\u001b[49m\u001b[43mset_axis\u001b[49m\u001b[43m(\u001b[49m\u001b[43maxis\u001b[49m\u001b[43m,\u001b[49m\u001b[43m \u001b[49m\u001b[43mlabels\u001b[49m\u001b[43m)\u001b[49m\n\u001b[32m    815\u001b[39m \u001b[38;5;28mself\u001b[39m._clear_item_cache()\n",
      "\u001b[36mFile \u001b[39m\u001b[32m/workspaces/electric-demand-data/.venv/lib/python3.12/site-packages/pandas/core/internals/managers.py:238\u001b[39m, in \u001b[36mBaseBlockManager.set_axis\u001b[39m\u001b[34m(self, axis, new_labels)\u001b[39m\n\u001b[32m    236\u001b[39m \u001b[38;5;28;01mdef\u001b[39;00m\u001b[38;5;250m \u001b[39m\u001b[34mset_axis\u001b[39m(\u001b[38;5;28mself\u001b[39m, axis: AxisInt, new_labels: Index) -> \u001b[38;5;28;01mNone\u001b[39;00m:\n\u001b[32m    237\u001b[39m     \u001b[38;5;66;03m# Caller is responsible for ensuring we have an Index object.\u001b[39;00m\n\u001b[32m--> \u001b[39m\u001b[32m238\u001b[39m     \u001b[38;5;28;43mself\u001b[39;49m\u001b[43m.\u001b[49m\u001b[43m_validate_set_axis\u001b[49m\u001b[43m(\u001b[49m\u001b[43maxis\u001b[49m\u001b[43m,\u001b[49m\u001b[43m \u001b[49m\u001b[43mnew_labels\u001b[49m\u001b[43m)\u001b[49m\n\u001b[32m    239\u001b[39m     \u001b[38;5;28mself\u001b[39m.axes[axis] = new_labels\n",
      "\u001b[36mFile \u001b[39m\u001b[32m/workspaces/electric-demand-data/.venv/lib/python3.12/site-packages/pandas/core/internals/base.py:98\u001b[39m, in \u001b[36mDataManager._validate_set_axis\u001b[39m\u001b[34m(self, axis, new_labels)\u001b[39m\n\u001b[32m     95\u001b[39m     \u001b[38;5;28;01mpass\u001b[39;00m\n\u001b[32m     97\u001b[39m \u001b[38;5;28;01melif\u001b[39;00m new_len != old_len:\n\u001b[32m---> \u001b[39m\u001b[32m98\u001b[39m     \u001b[38;5;28;01mraise\u001b[39;00m \u001b[38;5;167;01mValueError\u001b[39;00m(\n\u001b[32m     99\u001b[39m         \u001b[33mf\u001b[39m\u001b[33m\"\u001b[39m\u001b[33mLength mismatch: Expected axis has \u001b[39m\u001b[38;5;132;01m{\u001b[39;00mold_len\u001b[38;5;132;01m}\u001b[39;00m\u001b[33m elements, new \u001b[39m\u001b[33m\"\u001b[39m\n\u001b[32m    100\u001b[39m         \u001b[33mf\u001b[39m\u001b[33m\"\u001b[39m\u001b[33mvalues have \u001b[39m\u001b[38;5;132;01m{\u001b[39;00mnew_len\u001b[38;5;132;01m}\u001b[39;00m\u001b[33m elements\u001b[39m\u001b[33m\"\u001b[39m\n\u001b[32m    101\u001b[39m     )\n",
      "\u001b[31mValueError\u001b[39m: Length mismatch: Expected axis has 1 elements, new values have 15 elements"
     ]
    }
   ],
   "source": [
    "from tqdm import tqdm\n",
    "\n",
    "\n",
    "for year in tqdm(years_available, desc=\"Processing Toktarova data per year\"):\n",
    "    print(f\"Collecting Toktarova data for year {year}\")\n",
    "    df_current_year = extract_data_for_year(year)"
   ]
  },
  {
   "cell_type": "code",
   "execution_count": null,
   "id": "7e68b717",
   "metadata": {},
   "outputs": [],
   "source": []
  },
  {
   "cell_type": "code",
   "execution_count": null,
   "id": "cce423d4",
   "metadata": {},
   "outputs": [],
   "source": []
  }
 ],
 "metadata": {
  "kernelspec": {
   "display_name": "Python 3 (ipykernel)",
   "language": "python",
   "name": "python3"
  },
  "language_info": {
   "codemirror_mode": {
    "name": "ipython",
    "version": 3
   },
   "file_extension": ".py",
   "mimetype": "text/x-python",
   "name": "python",
   "nbconvert_exporter": "python",
   "pygments_lexer": "ipython3",
   "version": "3.12.9"
  }
 },
 "nbformat": 4,
 "nbformat_minor": 5
}
